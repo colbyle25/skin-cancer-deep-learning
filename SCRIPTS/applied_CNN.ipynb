{
 "cells": [
  {
   "cell_type": "markdown",
   "metadata": {},
   "source": [
    "### Using CNN to test percentage of cases with Malignant vs Benign"
   ]
  },
  {
   "cell_type": "code",
   "execution_count": 9,
   "metadata": {},
   "outputs": [],
   "source": [
    "from keras.models import load_model\n",
    "\n",
    "# Path to the saved model\n",
    "model_path = '../OUTPUT/classifier_model.h5'\n",
    "model = load_model(model_path)\n"
   ]
  },
  {
   "cell_type": "code",
   "execution_count": 16,
   "metadata": {},
   "outputs": [
    {
     "name": "stdout",
     "output_type": "stream",
     "text": [
      "Model: \"sequential\"\n",
      "_________________________________________________________________\n",
      " Layer (type)                Output Shape              Param #   \n",
      "=================================================================\n",
      " conv2d (Conv2D)             (None, 30, 30, 32)        896       \n",
      "                                                                 \n",
      " max_pooling2d (MaxPooling2D  (None, 15, 15, 32)       0         \n",
      " )                                                               \n",
      "                                                                 \n",
      " flatten (Flatten)           (None, 7200)              0         \n",
      "                                                                 \n",
      " dense (Dense)               (None, 128)               921728    \n",
      "                                                                 \n",
      " dense_1 (Dense)             (None, 1)                 129       \n",
      "                                                                 \n",
      "=================================================================\n",
      "Total params: 922,753\n",
      "Trainable params: 922,753\n",
      "Non-trainable params: 0\n",
      "_________________________________________________________________\n"
     ]
    }
   ],
   "source": [
    "model.summary()"
   ]
  },
  {
   "cell_type": "code",
   "execution_count": 33,
   "metadata": {},
   "outputs": [
    {
     "name": "stdout",
     "output_type": "stream",
     "text": [
      "Found 400 validated image filenames belonging to 2 classes.\n"
     ]
    }
   ],
   "source": [
    "import pandas as pd\n",
    "from sklearn.model_selection import train_test_split\n",
    "from keras.preprocessing.image import ImageDataGenerator\n",
    "\n",
    "# Load metadata\n",
    "metadata_path = '../DATA/test_cnn/metadata.csv'\n",
    "metadata = pd.read_csv(metadata_path)\n",
    "metadata['filename'] = metadata['isic_id'] + '.jpg'  # Ensure 'isic_id' matches your actual ID column\n",
    "\n",
    "# Split the data randomly into train and test sets\n",
    "train_metadata, test_metadata = train_test_split(metadata, test_size=0.2, random_state=42)  # 20% data as test set\n",
    "\n",
    "# Define paths\n",
    "image_dir = '../DATA/test_cnn/'\n",
    "\n",
    "# Initialize the data generator\n",
    "datagen = ImageDataGenerator(rescale=1./255)\n",
    "\n",
    "# Create generators using flow_from_dataframe\n",
    "image_generator = datagen.flow_from_dataframe(\n",
    "    dataframe=train_metadata,\n",
    "    directory=image_dir,\n",
    "    x_col='filename',\n",
    "    y_col='benign_malignant',\n",
    "    target_size=(32, 32),  # Adjusted to the calculated size\n",
    "    batch_size=32,\n",
    "    class_mode='binary'\n",
    ")\n",
    "\n"
   ]
  },
  {
   "cell_type": "code",
   "execution_count": 35,
   "metadata": {},
   "outputs": [
    {
     "name": "stdout",
     "output_type": "stream",
     "text": [
      "13/13 [==============================] - 29s 2s/step\n"
     ]
    }
   ],
   "source": [
    "# Predict using the model\n",
    "preds = model.predict(image_generator)\n",
    "\n",
    "# Convert predictions to labels\n",
    "pred_labels = (preds > 0.5).astype(int)\n"
   ]
  },
  {
   "cell_type": "code",
   "execution_count": 37,
   "metadata": {},
   "outputs": [
    {
     "name": "stdout",
     "output_type": "stream",
     "text": [
      "11 400\n",
      "Z-statistic: 2.1402124812336347, P-value: 0.01616879947706368\n"
     ]
    }
   ],
   "source": [
    "import numpy as np\n",
    "from statsmodels.stats.proportion import proportions_ztest\n",
    "\n",
    "# Count number of malignant cases\n",
    "count_malignant = np.sum(pred_labels == 1)\n",
    "nobs = len(pred_labels)  # Number of observations\n",
    "print(count_malignant, nobs)\n",
    "# Perform the test\n",
    "stat, pval = proportions_ztest(count_malignant, nobs, value=0.01, alternative='larger')\n",
    "\n",
    "print(f'Z-statistic: {stat}, P-value: {pval}')\n"
   ]
  }
 ],
 "metadata": {
  "kernelspec": {
   "display_name": "Python 3",
   "language": "python",
   "name": "python3"
  },
  "language_info": {
   "codemirror_mode": {
    "name": "ipython",
    "version": 3
   },
   "file_extension": ".py",
   "mimetype": "text/x-python",
   "name": "python",
   "nbconvert_exporter": "python",
   "pygments_lexer": "ipython3",
   "version": "3.10.13"
  }
 },
 "nbformat": 4,
 "nbformat_minor": 2
}
